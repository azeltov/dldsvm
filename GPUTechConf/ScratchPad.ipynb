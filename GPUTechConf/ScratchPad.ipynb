{
 "cells": [
  {
   "cell_type": "code",
   "execution_count": 1,
   "metadata": {},
   "outputs": [
    {
     "name": "stdout",
     "output_type": "stream",
     "text": [
      "1stmodeltrain.png\n",
      "DIGITSdatasetdefaultdigits.png\n",
      "DLI Header.png\n",
      "FirstDataSetSettings.png\n",
      "LeNetdatasetcreate.png\n",
      "LeNetmodelcreate.png\n",
      "LeNetmodeltrain.png\n",
      "bread.png\n",
      "classifyoneunlabeled.png\n",
      "graphfromfirsttraining.png\n",
      "grayscaledata.png\n",
      "oneepochsettings.png\n",
      "pretrainedmodelsetup.png\n"
     ]
    }
   ],
   "source": [
    "!tar -xvzf png.tar.gz"
   ]
  },
  {
   "cell_type": "code",
   "execution_count": null,
   "metadata": {
    "collapsed": true
   },
   "outputs": [],
   "source": []
  }
 ],
 "metadata": {
  "kernelspec": {
   "display_name": "Python 3",
   "language": "python",
   "name": "python3"
  },
  "language_info": {
   "codemirror_mode": {
    "name": "ipython",
    "version": 3
   },
   "file_extension": ".py",
   "mimetype": "text/x-python",
   "name": "python",
   "nbconvert_exporter": "python",
   "pygments_lexer": "ipython3",
   "version": "3.5.2"
  }
 },
 "nbformat": 4,
 "nbformat_minor": 2
}
