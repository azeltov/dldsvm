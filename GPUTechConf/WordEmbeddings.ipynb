{
 "cells": [
  {
   "cell_type": "markdown",
   "metadata": {},
   "source": [
    "# Text factual query using Word2Vec with TensorFlow\n",
    "\n",
    "## Intro\n",
    "\n",
    "We can take words in a language as independent set of characters and define their meaning individually. Even though that works for basic meaning, the relationship between each of the words are lost. So, we need to convert them into a space or representation that is easy to manipulate while inter-relational features are preserved. Vector representations are the most commonly used construct for this purpose in Mathematics. Thus, _word embedding_ is a process of mapping of words (or phrases) from the vocabulary to vectors of real numbers. TensorFlow's [Word2Vec](https://www.tensorflow.org/tutorials/word2vec) model is widely used for this purpose. \n",
    "\n",
    "### Suggested readings:\n",
    "* To understand better Skip-Gram Model the following tutorial is suggested\n",
    " - [Word2Vec Tutorial - The Skip-Gram Model](http://mccormickml.com/2016/04/19/word2vec-tutorial-the-skip-gram-model/)\n",
    "\n",
    "* To know about more complex and effective implementations of word2vec models see\n",
    "\n",
    " - [Distributed Representations of Words and Phrases and their Compositionality](http://papers.nips.cc/paper/5021-distributed-representations-of-words-and-phrases-and-their-compositionality.pdf)"
   ]
  },
  {
   "cell_type": "markdown",
   "metadata": {},
   "source": [
    "Now let's start by trying to convert three sentences to dense vectors. As explained by [Word2Vec](https://www.tensorflow.org/tutorials/word2vec) that [Distributional Hypothesis](https://en.wikipedia.org/wiki/Distributional_semantics#Distributional_Hypothesis) relies on the assumption that words appearing in the same context probably share the semantic meaning. Dense calculations compared to sparse calculations are more efficient so using vectors allow words of similar meaning to appear near each other. Go ahead and run the next cell to get started by importing the necessary libraries and setting the basic sentences for us to work with."
   ]
  },
  {
   "cell_type": "code",
   "execution_count": 2,
   "metadata": {},
   "outputs": [
    {
     "name": "stderr",
     "output_type": "stream",
     "text": [
      "/anaconda/envs/py35/lib/python3.5/site-packages/matplotlib/font_manager.py:273: UserWarning: Matplotlib is building the font cache using fc-list. This may take a moment.\n",
      "  warnings.warn('Matplotlib is building the font cache using fc-list. This may take a moment.')\n",
      "/anaconda/envs/py35/lib/python3.5/site-packages/matplotlib/font_manager.py:273: UserWarning: Matplotlib is building the font cache using fc-list. This may take a moment.\n",
      "  warnings.warn('Matplotlib is building the font cache using fc-list. This may take a moment.')\n"
     ]
    },
    {
     "data": {
      "text/html": [
       "<div>\n",
       "<table border=\"1\" class=\"dataframe\">\n",
       "  <thead>\n",
       "    <tr style=\"text-align: right;\">\n",
       "      <th></th>\n",
       "      <th>Everything</th>\n",
       "      <th>She</th>\n",
       "      <th>Sky</th>\n",
       "      <th>better</th>\n",
       "      <th>blue</th>\n",
       "      <th>getting</th>\n",
       "      <th>is</th>\n",
       "      <th>possible</th>\n",
       "    </tr>\n",
       "  </thead>\n",
       "  <tbody>\n",
       "    <tr>\n",
       "      <th>Everything</th>\n",
       "      <td>1.0</td>\n",
       "      <td>0.0</td>\n",
       "      <td>0.0</td>\n",
       "      <td>0.0</td>\n",
       "      <td>0.0</td>\n",
       "      <td>0.0</td>\n",
       "      <td>1</td>\n",
       "      <td>1.0</td>\n",
       "    </tr>\n",
       "    <tr>\n",
       "      <th>She</th>\n",
       "      <td>0.0</td>\n",
       "      <td>1.0</td>\n",
       "      <td>0.0</td>\n",
       "      <td>1.0</td>\n",
       "      <td>0.0</td>\n",
       "      <td>1.0</td>\n",
       "      <td>1</td>\n",
       "      <td>0.0</td>\n",
       "    </tr>\n",
       "    <tr>\n",
       "      <th>Sky</th>\n",
       "      <td>0.0</td>\n",
       "      <td>0.0</td>\n",
       "      <td>1.0</td>\n",
       "      <td>0.0</td>\n",
       "      <td>1.0</td>\n",
       "      <td>0.0</td>\n",
       "      <td>1</td>\n",
       "      <td>0.0</td>\n",
       "    </tr>\n",
       "    <tr>\n",
       "      <th>better</th>\n",
       "      <td>0.0</td>\n",
       "      <td>1.0</td>\n",
       "      <td>0.0</td>\n",
       "      <td>1.0</td>\n",
       "      <td>0.0</td>\n",
       "      <td>1.0</td>\n",
       "      <td>1</td>\n",
       "      <td>0.0</td>\n",
       "    </tr>\n",
       "    <tr>\n",
       "      <th>blue</th>\n",
       "      <td>0.0</td>\n",
       "      <td>0.0</td>\n",
       "      <td>1.0</td>\n",
       "      <td>0.0</td>\n",
       "      <td>1.0</td>\n",
       "      <td>0.0</td>\n",
       "      <td>1</td>\n",
       "      <td>0.0</td>\n",
       "    </tr>\n",
       "    <tr>\n",
       "      <th>getting</th>\n",
       "      <td>0.0</td>\n",
       "      <td>1.0</td>\n",
       "      <td>0.0</td>\n",
       "      <td>1.0</td>\n",
       "      <td>0.0</td>\n",
       "      <td>1.0</td>\n",
       "      <td>1</td>\n",
       "      <td>0.0</td>\n",
       "    </tr>\n",
       "    <tr>\n",
       "      <th>is</th>\n",
       "      <td>1.0</td>\n",
       "      <td>1.0</td>\n",
       "      <td>1.0</td>\n",
       "      <td>1.0</td>\n",
       "      <td>1.0</td>\n",
       "      <td>1.0</td>\n",
       "      <td>1</td>\n",
       "      <td>1.0</td>\n",
       "    </tr>\n",
       "    <tr>\n",
       "      <th>possible</th>\n",
       "      <td>1.0</td>\n",
       "      <td>0.0</td>\n",
       "      <td>0.0</td>\n",
       "      <td>0.0</td>\n",
       "      <td>0.0</td>\n",
       "      <td>0.0</td>\n",
       "      <td>1</td>\n",
       "      <td>1.0</td>\n",
       "    </tr>\n",
       "  </tbody>\n",
       "</table>\n",
       "</div>"
      ],
      "text/plain": [
       "            Everything  She  Sky  better  blue  getting  is  possible\n",
       "Everything         1.0  0.0  0.0     0.0   0.0      0.0   1       1.0\n",
       "She                0.0  1.0  0.0     1.0   0.0      1.0   1       0.0\n",
       "Sky                0.0  0.0  1.0     0.0   1.0      0.0   1       0.0\n",
       "better             0.0  1.0  0.0     1.0   0.0      1.0   1       0.0\n",
       "blue               0.0  0.0  1.0     0.0   1.0      0.0   1       0.0\n",
       "getting            0.0  1.0  0.0     1.0   0.0      1.0   1       0.0\n",
       "is                 1.0  1.0  1.0     1.0   1.0      1.0   1       1.0\n",
       "possible           1.0  0.0  0.0     0.0   0.0      0.0   1       1.0"
      ]
     },
     "execution_count": 2,
     "metadata": {},
     "output_type": "execute_result"
    }
   ],
   "source": [
    "import numpy as np\n",
    "import pandas as pd\n",
    "from matplotlib import pyplot as plt\n",
    "from sklearn.decomposition import PCA\n",
    "from collections import defaultdict\n",
    "%matplotlib inline\n",
    "\n",
    "\n",
    "# Let's for example consider a simple way to map words from sentences into dense vectors.\n",
    "# Let's make a table with words coocurrencies and then project vectors of all words into 2D using PCA.\n",
    "\n",
    "s = ['Sky is blue', 'She is getting better', 'Everything is possible']\n",
    "dic = defaultdict(dict)\n",
    "for sent in s:\n",
    "    words = sent.split()\n",
    "    for w in words:\n",
    "        for w2 in words:\n",
    "            dic[w][w2]=1\n",
    "\n",
    "df = pd.DataFrame(dic)\n",
    "df.fillna(0, inplace=True)\n",
    "df"
   ]
  },
  {
   "cell_type": "markdown",
   "metadata": {},
   "source": [
    "You will see the vector space created by every word in each sentence. If they appear in the same sentence then the weight is 1. If they do not appear in the same sentence then it's at 0. The table basically gives relations between of the words given the 3 context sentences.\n",
    "\n",
    "Now go ahead and run the next cell to collapse the words relationship into smaller dimensions so you'll see the clustering."
   ]
  },
  {
   "cell_type": "code",
   "execution_count": 3,
   "metadata": {},
   "outputs": [
    {
     "data": {
      "image/png": "[encoded data removed]",
      "text/plain": [
       "<matplotlib.figure.Figure at 0x7febe7282f60>"
      ]
     },
     "metadata": {},
     "output_type": "display_data"
    }
   ],
   "source": [
    "res = PCA().fit_transform(df)\n",
    "\n",
    "font = {'size'   : 15}\n",
    "plt.rc('font', **font)\n",
    "plt.figure(figsize=(7,7))\n",
    "plt.scatter(res[:,0], res[:,1])\n",
    "plt.axis('off')\n",
    "for i, label in enumerate(df.columns):\n",
    "    x, y = res[i,0], res[i,1]\n",
    "    plt.scatter(x, y)\n",
    "    annot = {'has': (1, 50), 'is': (1, 5)}\n",
    "    plt.annotate(label, xy=(x, y),\n",
    "                 xytext=annot.get(label,(1+i*2, 6*i)), \n",
    "                 textcoords='offset points',\n",
    "                   ha='right', va='bottom', )"
   ]
  },
  {
   "cell_type": "markdown",
   "metadata": {},
   "source": [
    "### Exercise 1\n",
    "\n",
    "Q. Why is the word 'is' by itself?"
   ]
  },
  {
   "cell_type": "raw",
   "metadata": {},
   "source": [
    "A. Fill-in"
   ]
  },
  {
   "cell_type": "markdown",
   "metadata": {},
   "source": [
    "# word2vec: skip gram & cbow\n",
    "\n",
    "Models __CBOW (Continuous Bag of Words)__ and __Skip gram__ were invented in the now distant 2013,\n",
    "*article*:\n",
    "[*Tomas Mikolov et al.*](https://arxiv.org/pdf/1301.3781v3.pdf)\n",
    "\n",
    "* __CBOW__ model predict missing word (focus word) using context (surrounding words).\n",
    "* __skip gram__ model is reverse to _CBOW_. It predicts context based on the word in focus.\n",
    "\n",
    "* **Context** is a fixed number of words to the left and right of the word in focus (see picture below). The length of the context is defined by the \"window\" parameter.\n",
    "\n",
    "![context](pics/context.png)\n",
    "\n",
    "Two models comparision\n",
    "\n",
    "![architecture](pics/architecture.png)\n",
    "\n",
    "___\n",
    "\n",
    "There are a lot of implementations of word2vec e.g. [gensim](https://github.com/RaRe-Technologies/gensim/blob/develop/docs/notebooks/word2vec.ipynb).\n",
    "And there are a lot of trained word-vectors which are already ready to use. But today we will learn how to create your own word embeddings.\n",
    "___\n",
    "\n",
    "\n",
    "### Skip-gram\n",
    "\n",
    "Consider a corpus with a sequence of words $ w_1, w_2, .., w_T $.\n",
    "\n",
    "Objective function (we would like to maximize it) for _skip gram_ is defined as follow:\n",
    "\n",
    "\n",
    "$$ AverageLogProbability = \\frac{1}{T} \\sum_{t=1}^{T} \\sum_{-c \\leqslant j\\leqslant c, j \\neq 0} log\\ p (w_{t+j} | w_t) $$\n",
    "\n",
    "* where $ c $ is a context length.\n",
    "* $w_t$ -- focus word\n",
    "\n",
    "The basic formulation for probability $ p (w_{t+j} | w_t) $ is calculated using __Softmax__ -\n",
    "\n",
    "$$ p (w_o | w_i) = \\frac{exp(s(v_i, v_o))}{ \\sum^{W}_{w=1}  exp(s(v_{w}, v_{i} )) } $$\n",
    "\n",
    "where\n",
    "* $v_i$ and $v_o$ input and output vector representations of $w_i$, $w_o$ .\n",
    "* $s(v_i, v_o) = v^{T} _{o} \\cdot v_{i}$\n",
    "* $W$ is the number of words in vocabulary\n",
    "\n",
    "___\n",
    "\n",
    "### CBOW\n",
    "\n",
    "Predict word using context.\n",
    "\n",
    "$$ E = -log\\ p(w_o\\ |\\ w_{1},\\ w_{2},\\ \\dots,\\ w_{c}) $$\n",
    "\n",
    "\n",
    "The **probability** is the same as in the *skip gram* model, but now $v_i$ is a sum of context-word vectors.\n",
    "\n",
    "$$ p(w_o\\ |\\ w_{1},\\ w_{2},\\ \\dots,\\ w_{c})  = \\frac{exp(s(v_i, v_o))}{\\sum^{W}_{w=1}  exp(s(v_{w}, v_{i} ))} $$\n",
    "\n",
    "\n",
    "* $\\ w_{1},\\ w_{2},\\ \\dots,\\ w_{c}$ -- input context words\n",
    "* $ v_i = \\sum^{c}_{k=1} w_{k}$\n",
    "* $ v_o$ = vector of output word\n",
    "* $s(v_i, v_o) = v^{T} _{o} \\cdot v_{i}$\n",
    "\n",
    "___\n",
    "\n",
    "Let's implement __`CBOW`__ using tf framework.\n",
    "\n",
    "And then implement __`skip gram`__ using CBOW implementation as an example.\n",
    "___\n",
    "\n",
    "First import TensorFlow as we did with other libraries"
   ]
  },
  {
   "cell_type": "code",
   "execution_count": 4,
   "metadata": {
    "collapsed": true
   },
   "outputs": [],
   "source": [
    "import tensorflow as tf"
   ]
  },
  {
   "cell_type": "markdown",
   "metadata": {},
   "source": [
    "We will be using [text8 dataset](http://mattmahoney.net/dc/textdata).\n",
    "\n",
    "It's a 100 Mb dump of English Wikipedia site at the time of March 3, 2006. It gives us a rich dataset to work with while the size isn't too big yet. \n",
    "\n",
    "# Working with data\n",
    "\n",
    "First we need to prepare the data so we can process it easily. One issue in NLP is the text corpus we have to deal with are usually long. Let's fetch the data but ensure that it's done only once."
   ]
  },
  {
   "cell_type": "code",
   "execution_count": 5,
   "metadata": {},
   "outputs": [
    {
     "name": "stdout",
     "output_type": "stream",
     "text": [
      "Data at /home/azeltov/notebooks/GPUTechConf/data/text8.zip.\n"
     ]
    }
   ],
   "source": [
    "# WARNING! if this file \"./data/text8.zip\" doesn't exist\n",
    "# it will be downloaded right now.\n",
    "\n",
    "import os, urllib.request\n",
    "def fetch_data(url):\n",
    "    \n",
    "    filename = url.split(\"/\")[-1]\n",
    "    datadir = os.path.join(os.getcwd(), \"data\")\n",
    "    filepath = os.path.join(datadir, filename)\n",
    "    \n",
    "    if not os.path.exists(datadir):\n",
    "        os.makedirs(datadir)\n",
    "    if not os.path.exists(filepath):\n",
    "        urllib.request.urlretrieve(url, filepath)\n",
    "    \n",
    "    return filepath\n",
    "\n",
    "url = \"http://mattmahoney.net/dc/text8.zip\"\n",
    "filepath = fetch_data(url)\n",
    "print (\"Data at {0}.\".format(filepath))"
   ]
  },
  {
   "cell_type": "markdown",
   "metadata": {},
   "source": [
    "Then unzip and read the data file."
   ]
  },
  {
   "cell_type": "code",
   "execution_count": 6,
   "metadata": {},
   "outputs": [
    {
     "name": "stdout",
     "output_type": "stream",
     "text": [
      "data_size = 17005207\n"
     ]
    }
   ],
   "source": [
    "import os, zipfile\n",
    "\n",
    "def read_data(filename):\n",
    "    with zipfile.ZipFile(filename) as f:\n",
    "        data = tf.compat.as_str(f.read(f.namelist()[0])).split()\n",
    "    return data\n",
    "\n",
    "\n",
    "words = read_data(filepath)\n",
    "print(\"data_size = {0}\".format(len(words)))"
   ]
  },
  {
   "cell_type": "markdown",
   "metadata": {},
   "source": [
    "Only the first 50K more frequently used words are considered here N = 50000. The rest of the words are marked with unknow token \"UNK\"."
   ]
  },
  {
   "cell_type": "code",
   "execution_count": 7,
   "metadata": {},
   "outputs": [
    {
     "name": "stdout",
     "output_type": "stream",
     "text": [
      "Least frequent word:  ('abercorn', 9)\n",
      "data: [5242, 3084, 12, 6, 195]\n",
      "count: [['UNK', 418391], ('the', 1061396), ('of', 593677), ('and', 416629), ('one', 411764)]\n",
      "word_to_index: [('dobbs', 33561), ('corvette', 31635), ('strict', 3949), ('macromolecules', 28813), ('seeing', 3708)]\n",
      "index_to_word: [(0, 'UNK'), (1, 'the'), (2, 'of'), (3, 'and'), (4, 'one')]\n"
     ]
    }
   ],
   "source": [
    "from collections import Counter\n",
    "\n",
    "def build_dataset(words, vocabulary_size):\n",
    "    count = [[ \"UNK\", -1 ]]\n",
    "    count.extend(Counter(words).most_common(vocabulary_size-1))\n",
    "    print(\"Least frequent word: \", count[-1])\n",
    "    word_to_index = { word: i for i, (word, _) in enumerate(count) }\n",
    "    data = [word_to_index.get(word, 0) for word in words] # map unknown words to 0\n",
    "    unk_count = data.count(0) # Number of unknown words\n",
    "    count[0][1] = unk_count\n",
    "    index_to_word= dict(zip(word_to_index.values(), word_to_index.keys()))\n",
    "    \n",
    "    return data, count, word_to_index, index_to_word\n",
    "\n",
    "vocabulary_size = 50000\n",
    "data, count, word_to_index, index_to_word = build_dataset(words, vocabulary_size)\n",
    "\n",
    "# Everything you need to know about the dataset\n",
    "\n",
    "print(\"data: {0}\".format(data[:5]))\n",
    "print(\"count: {0}\".format(count[:5]))\n",
    "print(\"word_to_index: {0}\".format(list(word_to_index.items())[:5]))\n",
    "print(\"index_to_word: {0}\".format(list(index_to_word.items())[:5]))"
   ]
  },
  {
   "cell_type": "markdown",
   "metadata": {},
   "source": [
    "### Exercise 2\n",
    "\n",
    "Let's look at characteristics of the wiki dataset.\n",
    "\n",
    "Q. How many 'unknown' occurrences are there? "
   ]
  },
  {
   "cell_type": "raw",
   "metadata": {},
   "source": [
    "A. Fill-in"
   ]
  },
  {
   "cell_type": "markdown",
   "metadata": {},
   "source": [
    "Q. Which word has the highest occurrences?"
   ]
  },
  {
   "cell_type": "raw",
   "metadata": {},
   "source": [
    "A. Fill-in"
   ]
  },
  {
   "cell_type": "markdown",
   "metadata": {},
   "source": [
    "Q. What is the index for that word? "
   ]
  },
  {
   "cell_type": "raw",
   "metadata": {},
   "source": [
    "A. Fill-in"
   ]
  },
  {
   "cell_type": "markdown",
   "metadata": {},
   "source": [
    "Now that we know the characteristics of the dataset, let's batch up the data and start processing. "
   ]
  },
  {
   "cell_type": "code",
   "execution_count": 8,
   "metadata": {},
   "outputs": [
    {
     "name": "stdout",
     "output_type": "stream",
     "text": [
      "data = ['anarchism', 'originated', 'as', 'a', 'term', 'of', 'abuse', 'first', 'used', 'against', 'early', 'working', 'class', 'radicals', 'including', 'the']\n",
      "bag_window = 1\n",
      "batch = [['anarchism', 'as'], ['originated', 'a'], ['as', 'term'], ['a', 'of']]\n",
      "labels = ['originated', 'as', 'a', 'term']\n",
      "\n",
      "bag_window = 2\n",
      "batch = [['anarchism', 'originated', 'a', 'term'], ['originated', 'as', 'term', 'of'], ['as', 'a', 'of', 'abuse'], ['a', 'term', 'abuse', 'first']]\n",
      "labels = ['as', 'a', 'term', 'of']\n",
      "\n"
     ]
    }
   ],
   "source": [
    "import numpy as np\n",
    "from collections import deque\n",
    "\n",
    "def generate_batch(data_index, data_size, batch_size, bag_window):\n",
    "    span = 2 * bag_window + 1 # [ bag_window, target, bag_window ]\n",
    "    batch = np.ndarray(shape = (batch_size, span - 1), dtype = np.int32)\n",
    "    labels = np.ndarray(shape = (batch_size, 1), dtype = np.int32)\n",
    "    \n",
    "    data_buffer = deque(maxlen = span)\n",
    "    \n",
    "    for _ in range(span):\n",
    "        data_buffer.append(data[data_index])\n",
    "        data_index = (data_index + 1) % data_size\n",
    "        \n",
    "    for i in range(batch_size):\n",
    "        data_list = list(data_buffer)\n",
    "        labels[i, 0] = data_list.pop(bag_window)\n",
    "        batch[i] = data_list\n",
    "        \n",
    "        data_buffer.append(data[data_index])\n",
    "        data_index = (data_index + 1) % data_size\n",
    "    return data_index, batch, labels\n",
    "\n",
    "\n",
    "print(\"data = {0}\".format([index_to_word[each] for each in data[:16]]))\n",
    "data_index, data_size, batch_size = 0, len(data), 4\n",
    "for bag_window in [1, 2]:\n",
    "    _, batch, labels = generate_batch(data_index, data_size, batch_size, bag_window)\n",
    "    print(\"bag_window = {0}\".format(bag_window))\n",
    "    print(\"batch = {0}\".format([[index_to_word[index] for index in each] for each in batch]))\n",
    "    print(\"labels = {0}\\n\".format([index_to_word[each] for each in labels.reshape(4)]))"
   ]
  },
  {
   "cell_type": "markdown",
   "metadata": {},
   "source": [
    "And now just take a close look at the output.\n",
    "\n",
    "* We just want to implement _CBOW_, and therefore missed words are considered as the `labels`.\n",
    "\n",
    "* Remember about the __window__ parameter discussed above, here it is __`bag_window`__.\n",
    "\n",
    "* Each sample in the batch has a number of words equal to __`bag_window * 2`__\n",
    "___\n",
    "\n",
    "# CBOW architecture\n",
    "\n",
    "Let's start implementing CBOW architecture. Pay close attention to each of the steps as you'll be having to replicate the process for skip-gram model. The two processes should be very similar to each other. \n"
   ]
  },
  {
   "cell_type": "code",
   "execution_count": null,
   "metadata": {
    "collapsed": true
   },
   "outputs": [],
   "source": [
    "import math\n",
    "\n",
    "# define constants\n",
    "batch_size = 256\n",
    "embedding_size = 128\n",
    "\n",
    "# How many words to consider from each side\n",
    "bag_window = 2\n",
    "\n",
    "tf.reset_default_graph()\n",
    "graph = tf.Graph()\n",
    "with graph.as_default():\n",
    "    #\n",
    "    # Take the vectors for the context words, which are all bag_window * 2\n",
    "    train_data = tf.placeholder(tf.int32, [batch_size, bag_window * 2])\n",
    "    # Label -- is a word in focus\n",
    "    train_labels = tf.placeholder(tf.int32, [batch_size])\n",
    "    \n",
    "    #\n",
    "    # Create an embedding matrix\n",
    "    # and initialize it by sampling from the uniform distribution [-1, 1]\n",
    "    \n",
    "    embeddings = tf.Variable(tf.random_uniform([vocabulary_size, embedding_size], -1.0, 1.0))\n",
    "    \n",
    "    #\n",
    "    # Get vectors corresponding to the indices of context words\n",
    "    # embed is a matrix with shape [batch_size, bag_window * 2, embedding_size]\n",
    "    embed = tf.nn.embedding_lookup(embeddings, train_data)\n",
    "    \n",
    "    # Sum up all the context vectors to the one vector with the same dimension\n",
    "    # Here we got a matrix of such vectors with the shape [batch_size, embedding_size]\n",
    "    context_sum = tf.reduce_sum(embed, 1)\n",
    "    \n",
    "    scores = tf.matmul(context_sum, embeddings, transpose_b=True)\n",
    "    \n",
    "    one_hot_labels = tf.one_hot(train_labels, vocabulary_size)\n",
    "    loss_tensor = tf.losses.softmax_cross_entropy(onehot_labels=one_hot_labels, logits=scores)\n",
    "    loss = tf.reduce_mean(loss_tensor)\n",
    "\n",
    "    \n",
    "    optimizer = tf.train.AdamOptimizer(0.01).minimize(loss)\n",
    "    \n",
    "    # We need to normalize word embeddings for dot product to be a cosine distance \n",
    "    norm = tf.sqrt(tf.reduce_sum(tf.square(embeddings), 1, keep_dims = True))\n",
    "    normalized_embeddings = embeddings / norm"
   ]
  },
  {
   "cell_type": "markdown",
   "metadata": {},
   "source": [
    "# Training CBOW model\n",
    "\n",
    "For 8k steps on 2 physical CPU cores it takes about 18 minutes.\n",
    "\n",
    "Unfortunately, it is not enough to train good embeddings.\n",
    "\n",
    "Luckily, we have GPU available in this lab, so you could try to achieve reasonable quality much faster. Good representations should take over 50k iterations. Now go ahead and run it to train the model."
   ]
  },
  {
   "cell_type": "code",
   "execution_count": null,
   "metadata": {
    "collapsed": true
   },
   "outputs": [],
   "source": [
    "%%time\n",
    "#num_steps = 50001\n",
    "num_steps = 8001\n",
    "\n",
    "with tf.Session(graph=graph) as sess:\n",
    "    try:\n",
    "        tf.global_variables_initializer().run()\n",
    "        print('Initialized')\n",
    "        average_loss = 0\n",
    "\n",
    "        for step in range(num_steps):\n",
    "            data_index, batch, labels = generate_batch(data_index, data_size, batch_size, bag_window)\n",
    "            feed_dict = { train_data: batch, train_labels: labels.reshape(-1) }\n",
    "            _, current_loss = sess.run([optimizer, loss], feed_dict = feed_dict)\n",
    "            average_loss += current_loss\n",
    "            if step % 10 == 0:\n",
    "                if step > 0:\n",
    "                    average_loss = average_loss / 10\n",
    "                    print (\"step = {0}, average_loss = {1}\".format(step, average_loss))\n",
    "                    average_loss = 0\n",
    "    except KeyboardInterrupt:\n",
    "        final_embeddings = normalized_embeddings.eval()\n",
    "    final_embeddings = normalized_embeddings.eval()"
   ]
  },
  {
   "cell_type": "markdown",
   "metadata": {},
   "source": [
    "# Visualization\n",
    "\n",
    "We can use [projector](http://projector.tensorflow.org/) to visualize the results in a word cloud. Go ahead and click on [projector](http://projector.tensorflow.org/) to launch the visualization.\n",
    "\n",
    "### Click on [Projector](http://projector.tensorflow.org/)\n"
   ]
  },
  {
   "cell_type": "code",
   "execution_count": null,
   "metadata": {
    "collapsed": true
   },
   "outputs": [],
   "source": [
    "with open('embeddings.txt', 'w') as f:\n",
    "    for n in range(vocabulary_size):\n",
    "        s = '\\t'.join([index_to_word[n]] + [str(num) for num in final_embeddings[n]])\n",
    "        f.write(s + '\\n')\n",
    "with open('mentadata.txt', 'w') as f:\n",
    "    for n in range(vocabulary_size):\n",
    "        f.write(index_to_word[n] + '\\n')"
   ]
  },
  {
   "cell_type": "markdown",
   "metadata": {},
   "source": [
    "Or see TSNE here:"
   ]
  },
  {
   "cell_type": "code",
   "execution_count": null,
   "metadata": {
    "collapsed": true
   },
   "outputs": [],
   "source": [
    "from sklearn.manifold import TSNE\n",
    "\n",
    "num_points = 350\n",
    "\n",
    "tsne = TSNE(perplexity=10, n_components=2, init=\"pca\", n_iter=5000)\n",
    "two_d_embeddings = tsne.fit_transform(final_embeddings[1:num_points+1, :])\n",
    "\n",
    "plt.figure(figsize=(15,15))\n",
    "words = [index_to_word[i] for i in range(1, num_points+1)]\n",
    "\n",
    "for i, label in enumerate(words):\n",
    "    x, y = two_d_embeddings[i, :]\n",
    "    plt.scatter(x, y)\n",
    "    plt.annotate(label, xy=(x, y), xytext=(5, 2), textcoords=\"offset points\",\n",
    "                   ha=\"right\", va=\"bottom\")\n",
    "plt.show()"
   ]
  },
  {
   "cell_type": "markdown",
   "metadata": {},
   "source": [
    "# Task\n",
    "\n",
    "Your task is to implement `skip-gram` model, using code above.\n",
    "\n",
    "This approach is nicely illustrated with this figure:\n",
    "\n",
    "![skip_gram](./pics/training_data.png)\n",
    "As you can see on the picture, the training set consists of pairs (`central word`, `context word`).\n",
    "\n",
    "I.e. our model takes `central word` and should produce class in softmax, which corresponds to `context word`.\n",
    "\n",
    "The difference between two models is not that big after all, so good luck with coding!"
   ]
  },
  {
   "cell_type": "code",
   "execution_count": null,
   "metadata": {
    "collapsed": true
   },
   "outputs": [],
   "source": [
    "# We have implemented batch generator for you\n",
    "from collections import deque\n",
    "import numpy as np\n",
    "import random\n",
    "\n",
    "def generate_batch_2(data_index, data_size, batch_size, num_skips, skip_window):\n",
    "    assert batch_size % num_skips == 0\n",
    "    assert num_skips <= 2 * skip_window\n",
    "    \n",
    "    batch = np.ndarray(shape = batch_size, dtype = np.int32)\n",
    "    labels = np.ndarray(shape = (batch_size, 1), dtype = np.int32)\n",
    "    span = 2 * skip_window + 1\n",
    "    data_buffer = deque(maxlen = span)\n",
    "    for _ in range(span):\n",
    "        data_buffer.append(data[data_index])\n",
    "        data_index = (data_index + 1) % data_size\n",
    "    \n",
    "    for i in range(batch_size // num_skips):\n",
    "        target, targets_to_avoid = skip_window, [skip_window]\n",
    "        for j in range(num_skips):\n",
    "            while target in targets_to_avoid: \n",
    "                target = random.randint(0, span - 1)\n",
    "            targets_to_avoid.append(target)\n",
    "            batch[i * num_skips + j] = data_buffer[skip_window]\n",
    "            labels[i * num_skips + j, 0] = data_buffer[target]\n",
    "        data_buffer.append(data[data_index])\n",
    "        data_index = (data_index + 1) % data_size\n",
    "    return data_index, batch, labels\n",
    "\n",
    "\n",
    "print (\"data = {0}\\n\".format([index_to_word[each] for each in data[:32]]))\n",
    "data_index, data_size = 0, len(data)\n",
    "for num_skips, skip_window in [(2, 1), (4, 2)]:\n",
    "    data_index = 0\n",
    "    data_index, batch, labels = generate_batch_2(data_index=data_index, \n",
    "                                               data_size=data_size, \n",
    "                                               batch_size=16, \n",
    "                                               num_skips=num_skips, \n",
    "                                               skip_window=skip_window)\n",
    "    print (\"data_index = {0}, num_skips = {1}, skip_window = {2}\".format( data_index, num_skips, skip_window))\n",
    "    print (\"batch = {0}\".format([index_to_word[each] for each in batch]))\n",
    "    print (\"labels = {0}\\n\".format([index_to_word[each] for each in labels.reshape(16)]))"
   ]
  },
  {
   "cell_type": "markdown",
   "metadata": {},
   "source": [
    "Now that we have shown how to implement CBOW model, you have all the tools to create skip-gram model yourself. In the following cell, create skip-gram model by following the steps from CBOW implementation.\n",
    "\n",
    "### Exercise 3\n",
    "Fill-in the following cell with TensorFlow code for skip-gram model."
   ]
  },
  {
   "cell_type": "code",
   "execution_count": null,
   "metadata": {
    "collapsed": true
   },
   "outputs": [],
   "source": []
  },
  {
   "cell_type": "markdown",
   "metadata": {},
   "source": [
    "### Exercise 4\n",
    "Once the model is created, next step is train it. Fill-in Tensorflow code for training of skip-gram model."
   ]
  },
  {
   "cell_type": "code",
   "execution_count": null,
   "metadata": {
    "collapsed": true
   },
   "outputs": [],
   "source": []
  },
  {
   "cell_type": "markdown",
   "metadata": {},
   "source": [
    "### Exercise 5\n",
    "Finally, after training we want to visualize the results. Implement tSNE visualization of embeddings for skip-gram model."
   ]
  },
  {
   "cell_type": "code",
   "execution_count": null,
   "metadata": {
    "collapsed": true
   },
   "outputs": [],
   "source": []
  },
  {
   "cell_type": "markdown",
   "metadata": {},
   "source": [
    "## Real example"
   ]
  },
  {
   "cell_type": "markdown",
   "metadata": {},
   "source": [
    "Let's test our embeddings on some real case: we create simple Wikipedia search engine. \n",
    "\n",
    "To do that first of all we need to download Wikipedia sample:"
   ]
  },
  {
   "cell_type": "code",
   "execution_count": null,
   "metadata": {
    "collapsed": true
   },
   "outputs": [],
   "source": [
    "! wget -c \"https://s3.amazonaws.com/fair-data/starspace/wikipedia_devtst.tgz\""
   ]
  },
  {
   "cell_type": "code",
   "execution_count": null,
   "metadata": {
    "collapsed": true
   },
   "outputs": [],
   "source": [
    "! tar -xzvf wikipedia_devtst.tgz"
   ]
  },
  {
   "cell_type": "code",
   "execution_count": null,
   "metadata": {
    "collapsed": true
   },
   "outputs": [],
   "source": [
    "! head wikipedia_test_basedocs.txt -1"
   ]
  },
  {
   "cell_type": "markdown",
   "metadata": {},
   "source": [
    "Now we will vectorize all the articles:"
   ]
  },
  {
   "cell_type": "code",
   "execution_count": null,
   "metadata": {
    "collapsed": true
   },
   "outputs": [],
   "source": [
    "def vectorize(text):\n",
    "    tokens = text.lower().split()\n",
    "    num_words = 0\n",
    "    doc_vector = np.zeros_like(final_embeddings[0])\n",
    "    for token in tokens: \n",
    "        if token in word_to_index:\n",
    "            num_words += 1\n",
    "            doc_vector += final_embeddings[word_to_index[token]]\n",
    "    doc_vector /= num_words\n",
    "    return doc_vector"
   ]
  },
  {
   "cell_type": "code",
   "execution_count": null,
   "metadata": {
    "collapsed": true
   },
   "outputs": [],
   "source": [
    "vectorized_docs = []\n",
    "docs = []\n",
    "with open(\"wikipedia_test_basedocs.txt\",encoding='utf8') as f:\n",
    "    for doc in f:\n",
    "        doc_vector = vectorize(doc)\n",
    "        vectorized_docs.append(doc_vector)\n",
    "        docs.append(doc)"
   ]
  },
  {
   "cell_type": "markdown",
   "metadata": {},
   "source": [
    "Our toy search engine:"
   ]
  },
  {
   "cell_type": "code",
   "execution_count": null,
   "metadata": {
    "collapsed": true
   },
   "outputs": [],
   "source": [
    "def search(query):\n",
    "    query_vector = vectorize(query)\n",
    "    ranking = []\n",
    "    for i in range(len(vectorized_docs)):\n",
    "        score = np.dot(query_vector, vectorized_docs[i])\n",
    "        ranking.append((score, i))\n",
    "    ranking.sort(key=lambda x: -x[0]) # to have descending sorting\n",
    "    return docs[ranking[0][1]]"
   ]
  },
  {
   "cell_type": "markdown",
   "metadata": {},
   "source": [
    "And at last we could test it on some query:"
   ]
  },
  {
   "cell_type": "code",
   "execution_count": null,
   "metadata": {
    "collapsed": true
   },
   "outputs": [],
   "source": [
    "query = \"japanese strong gull\""
   ]
  },
  {
   "cell_type": "code",
   "execution_count": null,
   "metadata": {
    "collapsed": true
   },
   "outputs": [],
   "source": [
    "search(query)"
   ]
  },
  {
   "cell_type": "markdown",
   "metadata": {},
   "source": [
    "### Exercise 6\n",
    "\n",
    "Create your own query and determine the quality of the results.\n",
    "\n",
    "You could spot that results are not the best, so you could improve quality of the embeddings, by increasing windows size in training, increasing batch size and train longer."
   ]
  },
  {
   "cell_type": "code",
   "execution_count": null,
   "metadata": {
    "collapsed": true
   },
   "outputs": [],
   "source": []
  }
 ],
 "metadata": {
  "anaconda-cloud": {},
  "kernelspec": {
   "display_name": "Python 3",
   "language": "python",
   "name": "python3"
  },
  "language_info": {
   "codemirror_mode": {
    "name": "ipython",
    "version": 3
   },
   "file_extension": ".py",
   "mimetype": "text/x-python",
   "name": "python",
   "nbconvert_exporter": "python",
   "pygments_lexer": "ipython3",
   "version": "3.5.2"
  }
 },
 "nbformat": 4,
 "nbformat_minor": 2
}
